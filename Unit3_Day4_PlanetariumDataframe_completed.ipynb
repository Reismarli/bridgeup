{
 "cells": [
  {
   "cell_type": "markdown",
   "metadata": {
    "deletable": true,
    "editable": true
   },
   "source": [
    "# Clinometer activity Pt 2\n",
    "\n",
    "In this notebook you'll create a pandas dataframe with data from the entire class. You will practice using pandas functions and learn how to convert a CSV file to a pandas dataframe."
   ]
  },
  {
   "cell_type": "markdown",
   "metadata": {
    "deletable": true,
    "editable": true
   },
   "source": [
    "Start by importing pandas and numpy"
   ]
  },
  {
   "cell_type": "code",
   "execution_count": 1,
   "metadata": {
    "collapsed": true,
    "deletable": true,
    "editable": true
   },
   "outputs": [],
   "source": [
    "import pandas as pd\n",
    "import numpy as np"
   ]
  },
  {
   "cell_type": "markdown",
   "metadata": {
    "deletable": true,
    "editable": true
   },
   "source": [
    "Next, let's open our data file and convert it to a pandas dataframe. \n",
    "\n",
    "This time our dataset is in a CSV file so we can use the pd.read_csv() function:"
   ]
  },
  {
   "cell_type": "code",
   "execution_count": 2,
   "metadata": {
    "collapsed": false,
    "deletable": true,
    "editable": true
   },
   "outputs": [],
   "source": [
    "df = pd.read_csv(\"Class_clinometer_data.csv\")"
   ]
  },
  {
   "cell_type": "markdown",
   "metadata": {
    "deletable": true,
    "editable": true
   },
   "source": [
    "Let's take a look at the data! Use the .head() function to look at the first 5 rows of data."
   ]
  },
  {
   "cell_type": "code",
   "execution_count": 4,
   "metadata": {
    "collapsed": false,
    "deletable": true,
    "editable": true
   },
   "outputs": [
    {
     "data": {
      "text/html": [
       "<div>\n",
       "<style>\n",
       "    .dataframe thead tr:only-child th {\n",
       "        text-align: right;\n",
       "    }\n",
       "\n",
       "    .dataframe thead th {\n",
       "        text-align: left;\n",
       "    }\n",
       "\n",
       "    .dataframe tbody tr th {\n",
       "        vertical-align: top;\n",
       "    }\n",
       "</style>\n",
       "<table border=\"1\" class=\"dataframe\">\n",
       "  <thead>\n",
       "    <tr style=\"text-align: right;\">\n",
       "      <th></th>\n",
       "      <th>Student height (m)</th>\n",
       "      <th>Building distance (m)</th>\n",
       "      <th>Clinometer angle (deg)</th>\n",
       "    </tr>\n",
       "  </thead>\n",
       "  <tbody>\n",
       "    <tr>\n",
       "      <th>0</th>\n",
       "      <td>1.7200</td>\n",
       "      <td>52.500000</td>\n",
       "      <td>29.0</td>\n",
       "    </tr>\n",
       "    <tr>\n",
       "      <th>1</th>\n",
       "      <td>1.7300</td>\n",
       "      <td>45.000000</td>\n",
       "      <td>34.0</td>\n",
       "    </tr>\n",
       "    <tr>\n",
       "      <th>2</th>\n",
       "      <td>1.6256</td>\n",
       "      <td>45.034176</td>\n",
       "      <td>31.5</td>\n",
       "    </tr>\n",
       "    <tr>\n",
       "      <th>3</th>\n",
       "      <td>1.6800</td>\n",
       "      <td>52.500000</td>\n",
       "      <td>26.0</td>\n",
       "    </tr>\n",
       "    <tr>\n",
       "      <th>4</th>\n",
       "      <td>1.6002</td>\n",
       "      <td>52.500000</td>\n",
       "      <td>33.0</td>\n",
       "    </tr>\n",
       "    <tr>\n",
       "      <th>5</th>\n",
       "      <td>1.6300</td>\n",
       "      <td>44.856376</td>\n",
       "      <td>39.0</td>\n",
       "    </tr>\n",
       "    <tr>\n",
       "      <th>6</th>\n",
       "      <td>1.6800</td>\n",
       "      <td>44.800000</td>\n",
       "      <td>31.0</td>\n",
       "    </tr>\n",
       "    <tr>\n",
       "      <th>7</th>\n",
       "      <td>1.6600</td>\n",
       "      <td>52.500000</td>\n",
       "      <td>35.0</td>\n",
       "    </tr>\n",
       "    <tr>\n",
       "      <th>8</th>\n",
       "      <td>1.6300</td>\n",
       "      <td>52.500000</td>\n",
       "      <td>27.0</td>\n",
       "    </tr>\n",
       "    <tr>\n",
       "      <th>9</th>\n",
       "      <td>1.5100</td>\n",
       "      <td>52.500000</td>\n",
       "      <td>23.0</td>\n",
       "    </tr>\n",
       "    <tr>\n",
       "      <th>10</th>\n",
       "      <td>1.5500</td>\n",
       "      <td>52.500000</td>\n",
       "      <td>39.0</td>\n",
       "    </tr>\n",
       "    <tr>\n",
       "      <th>11</th>\n",
       "      <td>1.3970</td>\n",
       "      <td>45.000000</td>\n",
       "      <td>35.0</td>\n",
       "    </tr>\n",
       "  </tbody>\n",
       "</table>\n",
       "</div>"
      ],
      "text/plain": [
       "    Student height (m)  Building distance (m)  Clinometer angle (deg)\n",
       "0               1.7200              52.500000                    29.0\n",
       "1               1.7300              45.000000                    34.0\n",
       "2               1.6256              45.034176                    31.5\n",
       "3               1.6800              52.500000                    26.0\n",
       "4               1.6002              52.500000                    33.0\n",
       "5               1.6300              44.856376                    39.0\n",
       "6               1.6800              44.800000                    31.0\n",
       "7               1.6600              52.500000                    35.0\n",
       "8               1.6300              52.500000                    27.0\n",
       "9               1.5100              52.500000                    23.0\n",
       "10              1.5500              52.500000                    39.0\n",
       "11              1.3970              45.000000                    35.0"
      ]
     },
     "execution_count": 4,
     "metadata": {},
     "output_type": "execute_result"
    }
   ],
   "source": [
    "df"
   ]
  },
  {
   "cell_type": "markdown",
   "metadata": {
    "deletable": true,
    "editable": true
   },
   "source": [
    "Now use the .dtypes command to check the data type of the columns (note this is not a function so you don't need parentheses)"
   ]
  },
  {
   "cell_type": "code",
   "execution_count": 5,
   "metadata": {
    "collapsed": false,
    "deletable": true,
    "editable": true
   },
   "outputs": [
    {
     "data": {
      "text/plain": [
       "Student height (m)        float64\n",
       "Building distance (m)     float64\n",
       "Clinometer angle (deg)    float64\n",
       "dtype: object"
      ]
     },
     "execution_count": 5,
     "metadata": {},
     "output_type": "execute_result"
    }
   ],
   "source": [
    "df.dtypes"
   ]
  },
  {
   "cell_type": "markdown",
   "metadata": {
    "deletable": true,
    "editable": true
   },
   "source": [
    "The first column contains the height of everyone in the class.\n",
    "\n",
    "Isolate this column using an index and assign it to a variable. Hint: You'll need to include the column name in the index."
   ]
  },
  {
   "cell_type": "code",
   "execution_count": 6,
   "metadata": {
    "collapsed": false,
    "deletable": true,
    "editable": true
   },
   "outputs": [],
   "source": [
    "# Create your variable and assign the \"student height\" column here\n",
    "s_height = df[\"Student height (m)\"]"
   ]
  },
  {
   "cell_type": "markdown",
   "metadata": {
    "deletable": true,
    "editable": true
   },
   "source": [
    "Now, print out the average height using the .mean() method."
   ]
  },
  {
   "cell_type": "code",
   "execution_count": 7,
   "metadata": {
    "collapsed": false,
    "deletable": true,
    "editable": true
   },
   "outputs": [
    {
     "data": {
      "text/plain": [
       "1.6177333333333335"
      ]
     },
     "execution_count": 7,
     "metadata": {},
     "output_type": "execute_result"
    }
   ],
   "source": [
    "s_height.mean()"
   ]
  },
  {
   "cell_type": "markdown",
   "metadata": {
    "deletable": true,
    "editable": true
   },
   "source": [
    "## Adding columns\n",
    "To make our data useful, we need to add some more columns. Let's create a column for theta first.\n",
    "\n",
    "Recall that theta = np.deg2rad(degrees)."
   ]
  },
  {
   "cell_type": "code",
   "execution_count": 8,
   "metadata": {
    "collapsed": false,
    "deletable": true,
    "editable": true
   },
   "outputs": [],
   "source": [
    "# Create a new column called \"theta\" \n",
    "# Hint: You will need to use a dataframe index as the argument for the np.deg2rad() function.\n",
    "df[\"theta\"] = np.deg2rad(df[\"Clinometer angle (deg)\"])"
   ]
  },
  {
   "cell_type": "code",
   "execution_count": 9,
   "metadata": {
    "collapsed": false,
    "deletable": true,
    "editable": true
   },
   "outputs": [
    {
     "data": {
      "text/html": [
       "<div>\n",
       "<style>\n",
       "    .dataframe thead tr:only-child th {\n",
       "        text-align: right;\n",
       "    }\n",
       "\n",
       "    .dataframe thead th {\n",
       "        text-align: left;\n",
       "    }\n",
       "\n",
       "    .dataframe tbody tr th {\n",
       "        vertical-align: top;\n",
       "    }\n",
       "</style>\n",
       "<table border=\"1\" class=\"dataframe\">\n",
       "  <thead>\n",
       "    <tr style=\"text-align: right;\">\n",
       "      <th></th>\n",
       "      <th>Student height (m)</th>\n",
       "      <th>Building distance (m)</th>\n",
       "      <th>Clinometer angle (deg)</th>\n",
       "      <th>theta</th>\n",
       "    </tr>\n",
       "  </thead>\n",
       "  <tbody>\n",
       "    <tr>\n",
       "      <th>0</th>\n",
       "      <td>1.7200</td>\n",
       "      <td>52.500000</td>\n",
       "      <td>29.0</td>\n",
       "      <td>0.506145</td>\n",
       "    </tr>\n",
       "    <tr>\n",
       "      <th>1</th>\n",
       "      <td>1.7300</td>\n",
       "      <td>45.000000</td>\n",
       "      <td>34.0</td>\n",
       "      <td>0.593412</td>\n",
       "    </tr>\n",
       "    <tr>\n",
       "      <th>2</th>\n",
       "      <td>1.6256</td>\n",
       "      <td>45.034176</td>\n",
       "      <td>31.5</td>\n",
       "      <td>0.549779</td>\n",
       "    </tr>\n",
       "    <tr>\n",
       "      <th>3</th>\n",
       "      <td>1.6800</td>\n",
       "      <td>52.500000</td>\n",
       "      <td>26.0</td>\n",
       "      <td>0.453786</td>\n",
       "    </tr>\n",
       "    <tr>\n",
       "      <th>4</th>\n",
       "      <td>1.6002</td>\n",
       "      <td>52.500000</td>\n",
       "      <td>33.0</td>\n",
       "      <td>0.575959</td>\n",
       "    </tr>\n",
       "  </tbody>\n",
       "</table>\n",
       "</div>"
      ],
      "text/plain": [
       "   Student height (m)  Building distance (m)  Clinometer angle (deg)     theta\n",
       "0              1.7200              52.500000                    29.0  0.506145\n",
       "1              1.7300              45.000000                    34.0  0.593412\n",
       "2              1.6256              45.034176                    31.5  0.549779\n",
       "3              1.6800              52.500000                    26.0  0.453786\n",
       "4              1.6002              52.500000                    33.0  0.575959"
      ]
     },
     "execution_count": 9,
     "metadata": {},
     "output_type": "execute_result"
    }
   ],
   "source": [
    "df.head() # Check to make sure that your new column is correct"
   ]
  },
  {
   "cell_type": "markdown",
   "metadata": {
    "deletable": true,
    "editable": true
   },
   "source": [
    "Next, let's add a \"building height\" column. \n",
    "\n",
    "Remember that opposite = adjacent * np.tan(theta) and that the building height is opposite + student height."
   ]
  },
  {
   "cell_type": "code",
   "execution_count": 10,
   "metadata": {
    "collapsed": true,
    "deletable": true,
    "editable": true
   },
   "outputs": [],
   "source": [
    "# Create a new column called \"building height\"\n",
    "# Choose your dataframe indexes carefully!\n",
    "\n",
    "df[\"building height\"] = (df[\"Building distance (m)\"]*np.tan(df[\"theta\"])) + df[\"Student height (m)\"]"
   ]
  },
  {
   "cell_type": "code",
   "execution_count": 12,
   "metadata": {
    "collapsed": false,
    "deletable": true,
    "editable": true
   },
   "outputs": [
    {
     "data": {
      "text/html": [
       "<div>\n",
       "<style>\n",
       "    .dataframe thead tr:only-child th {\n",
       "        text-align: right;\n",
       "    }\n",
       "\n",
       "    .dataframe thead th {\n",
       "        text-align: left;\n",
       "    }\n",
       "\n",
       "    .dataframe tbody tr th {\n",
       "        vertical-align: top;\n",
       "    }\n",
       "</style>\n",
       "<table border=\"1\" class=\"dataframe\">\n",
       "  <thead>\n",
       "    <tr style=\"text-align: right;\">\n",
       "      <th></th>\n",
       "      <th>Student height (m)</th>\n",
       "      <th>Building distance (m)</th>\n",
       "      <th>Clinometer angle (deg)</th>\n",
       "      <th>theta</th>\n",
       "      <th>building height</th>\n",
       "    </tr>\n",
       "  </thead>\n",
       "  <tbody>\n",
       "    <tr>\n",
       "      <th>0</th>\n",
       "      <td>1.7200</td>\n",
       "      <td>52.500000</td>\n",
       "      <td>29.0</td>\n",
       "      <td>0.506145</td>\n",
       "      <td>30.821225</td>\n",
       "    </tr>\n",
       "    <tr>\n",
       "      <th>1</th>\n",
       "      <td>1.7300</td>\n",
       "      <td>45.000000</td>\n",
       "      <td>34.0</td>\n",
       "      <td>0.593412</td>\n",
       "      <td>32.082883</td>\n",
       "    </tr>\n",
       "    <tr>\n",
       "      <th>2</th>\n",
       "      <td>1.6256</td>\n",
       "      <td>45.034176</td>\n",
       "      <td>31.5</td>\n",
       "      <td>0.549779</td>\n",
       "      <td>29.222578</td>\n",
       "    </tr>\n",
       "    <tr>\n",
       "      <th>3</th>\n",
       "      <td>1.6800</td>\n",
       "      <td>52.500000</td>\n",
       "      <td>26.0</td>\n",
       "      <td>0.453786</td>\n",
       "      <td>27.285961</td>\n",
       "    </tr>\n",
       "    <tr>\n",
       "      <th>4</th>\n",
       "      <td>1.6002</td>\n",
       "      <td>52.500000</td>\n",
       "      <td>33.0</td>\n",
       "      <td>0.575959</td>\n",
       "      <td>35.694099</td>\n",
       "    </tr>\n",
       "    <tr>\n",
       "      <th>5</th>\n",
       "      <td>1.6300</td>\n",
       "      <td>44.856376</td>\n",
       "      <td>39.0</td>\n",
       "      <td>0.680678</td>\n",
       "      <td>37.953977</td>\n",
       "    </tr>\n",
       "    <tr>\n",
       "      <th>6</th>\n",
       "      <td>1.6800</td>\n",
       "      <td>44.800000</td>\n",
       "      <td>31.0</td>\n",
       "      <td>0.541052</td>\n",
       "      <td>28.598556</td>\n",
       "    </tr>\n",
       "    <tr>\n",
       "      <th>7</th>\n",
       "      <td>1.6600</td>\n",
       "      <td>52.500000</td>\n",
       "      <td>35.0</td>\n",
       "      <td>0.610865</td>\n",
       "      <td>38.420896</td>\n",
       "    </tr>\n",
       "    <tr>\n",
       "      <th>8</th>\n",
       "      <td>1.6300</td>\n",
       "      <td>52.500000</td>\n",
       "      <td>27.0</td>\n",
       "      <td>0.471239</td>\n",
       "      <td>28.380086</td>\n",
       "    </tr>\n",
       "    <tr>\n",
       "      <th>9</th>\n",
       "      <td>1.5100</td>\n",
       "      <td>52.500000</td>\n",
       "      <td>23.0</td>\n",
       "      <td>0.401426</td>\n",
       "      <td>23.794928</td>\n",
       "    </tr>\n",
       "    <tr>\n",
       "      <th>10</th>\n",
       "      <td>1.5500</td>\n",
       "      <td>52.500000</td>\n",
       "      <td>39.0</td>\n",
       "      <td>0.680678</td>\n",
       "      <td>44.063662</td>\n",
       "    </tr>\n",
       "    <tr>\n",
       "      <th>11</th>\n",
       "      <td>1.3970</td>\n",
       "      <td>45.000000</td>\n",
       "      <td>35.0</td>\n",
       "      <td>0.610865</td>\n",
       "      <td>32.906339</td>\n",
       "    </tr>\n",
       "  </tbody>\n",
       "</table>\n",
       "</div>"
      ],
      "text/plain": [
       "    Student height (m)  Building distance (m)  Clinometer angle (deg)  \\\n",
       "0               1.7200              52.500000                    29.0   \n",
       "1               1.7300              45.000000                    34.0   \n",
       "2               1.6256              45.034176                    31.5   \n",
       "3               1.6800              52.500000                    26.0   \n",
       "4               1.6002              52.500000                    33.0   \n",
       "5               1.6300              44.856376                    39.0   \n",
       "6               1.6800              44.800000                    31.0   \n",
       "7               1.6600              52.500000                    35.0   \n",
       "8               1.6300              52.500000                    27.0   \n",
       "9               1.5100              52.500000                    23.0   \n",
       "10              1.5500              52.500000                    39.0   \n",
       "11              1.3970              45.000000                    35.0   \n",
       "\n",
       "       theta  building height  \n",
       "0   0.506145        30.821225  \n",
       "1   0.593412        32.082883  \n",
       "2   0.549779        29.222578  \n",
       "3   0.453786        27.285961  \n",
       "4   0.575959        35.694099  \n",
       "5   0.680678        37.953977  \n",
       "6   0.541052        28.598556  \n",
       "7   0.610865        38.420896  \n",
       "8   0.471239        28.380086  \n",
       "9   0.401426        23.794928  \n",
       "10  0.680678        44.063662  \n",
       "11  0.610865        32.906339  "
      ]
     },
     "execution_count": 12,
     "metadata": {},
     "output_type": "execute_result"
    }
   ],
   "source": [
    "df # Check to make sure that your new column is correct"
   ]
  },
  {
   "cell_type": "markdown",
   "metadata": {
    "deletable": true,
    "editable": true
   },
   "source": [
    "Now, let's find the average building height for the entire class"
   ]
  },
  {
   "cell_type": "code",
   "execution_count": 13,
   "metadata": {
    "collapsed": false,
    "deletable": true,
    "editable": true
   },
   "outputs": [
    {
     "data": {
      "text/plain": [
       "32.435432470451083"
      ]
     },
     "execution_count": 13,
     "metadata": {},
     "output_type": "execute_result"
    }
   ],
   "source": [
    "# Hint: Use the .mean() method\n",
    "bh = df[\"building height\"]\n",
    "bh.mean()"
   ]
  },
  {
   "cell_type": "code",
   "execution_count": null,
   "metadata": {
    "collapsed": true
   },
   "outputs": [],
   "source": []
  }
 ],
 "metadata": {
  "kernelspec": {
   "display_name": "Python 3",
   "language": "python",
   "name": "python3"
  },
  "language_info": {
   "codemirror_mode": {
    "name": "ipython",
    "version": 3
   },
   "file_extension": ".py",
   "mimetype": "text/x-python",
   "name": "python",
   "nbconvert_exporter": "python",
   "pygments_lexer": "ipython3",
   "version": "3.5.2"
  }
 },
 "nbformat": 4,
 "nbformat_minor": 2
}
